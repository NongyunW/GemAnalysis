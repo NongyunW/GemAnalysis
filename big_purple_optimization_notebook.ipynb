{
 "cells": [
  {
   "cell_type": "code",
   "execution_count": 1,
   "metadata": {},
   "outputs": [],
   "source": [
    "import matplotlib as mpl\n",
    "import matplotlib.pyplot as plt\n",
    "import numpy as np\n",
    "import pandas as pd\n",
    "from pandas import DataFrame, Series  # for convenience\n",
    "import pims_nd2\n",
    "from pims_nd2 import ND2_Reader\n",
    "import trackpy as tp\n",
    "import os\n",
    "from cellpose import models,io\n",
    "from skimage.io import imread\n",
    "from scipy.stats import linregress"
   ]
  },
  {
   "cell_type": "code",
   "execution_count": 2,
   "metadata": {},
   "outputs": [],
   "source": [
    "nuc_model = '/gpfs/scratch/denesl01/libLTD/CP_20220513_192756'\n",
    "working_dir = '/gpfs/home/denesl01/scratch/20221107_GEM_osmo'\n",
    "working_dir = '/gpfs/scratch/denesl01/20221215_diff_GEMs'\n",
    "model = models.CellposeModel(pretrained_model=nuc_model) \n",
    "flist = [f for f in os.listdir(working_dir) if f.endswith('.nd2')]"
   ]
  },
  {
   "cell_type": "code",
   "execution_count": 3,
   "metadata": {},
   "outputs": [],
   "source": [
    "def open_nd2(input_file):\n",
    "    frames = ND2_Reader(os.path.join(working_dir, input_file))\n",
    "    arr_list = []\n",
    "    for item in frames:\n",
    "        arr_list.append(item)\n",
    "    frames = np.array(arr_list)\n",
    "    return frames"
   ]
  },
  {
   "attachments": {},
   "cell_type": "markdown",
   "metadata": {},
   "source": [
    "here, I want to make a function that can take in the filenames and produce paired nucleus/GEMs image/movies with the appropriate conditions etc from the filename as well all in one dictionary \n",
    "\n",
    "Currently, this is setup to save a sample list table in the directory in which the files are, it can be altered as needed until a common format is reached"
   ]
  },
  {
   "attachments": {},
   "cell_type": "markdown",
   "metadata": {},
   "source": [
    "working_dir = '/gpfs/scratch/denesl01/20221215_diff_GEMs'\n",
    "for processing this one^"
   ]
  },
  {
   "cell_type": "code",
   "execution_count": 25,
   "metadata": {},
   "outputs": [
    {
     "name": "stdout",
     "output_type": "stream",
     "text": [
      "                time diff condition sample         nuc_file         gem_file\n",
      "48_O_S_013.nd2    48    O         S     13   48_O_S_014.nd2   48_O_S_013.nd2\n",
      "24_OM_S_001.nd2   24   OM         S      1  24_OM_S_002.nd2  24_OM_S_001.nd2\n",
      "24_C_D_007.nd2    24    C         D      7   24_C_D_008.nd2   24_C_D_007.nd2\n",
      "2_O_D_007.nd2      2    O         D      7    2_O_D_008.nd2    2_O_D_007.nd2\n",
      "6_C_S_019.nd2      6    C         S     19    6_C_S_020.nd2    6_C_S_019.nd2\n",
      "...              ...  ...       ...    ...              ...              ...\n",
      "6_C_D_001.nd2      6    C         D      1    6_C_D_002.nd2    6_C_D_001.nd2\n",
      "48_C_D_009.nd2    48    C         D      9   48_C_D_010.nd2   48_C_D_009.nd2\n",
      "2_A_D_003.nd2      2    A         D      3    2_A_D_004.nd2    2_A_D_003.nd2\n",
      "48_O_S_017.nd2    48    O         S     17   48_O_S_018.nd2   48_O_S_017.nd2\n",
      "12_OM_D_003.nd2   12   OM         D      3  12_OM_D_004.nd2  12_OM_D_003.nd2\n",
      "\n",
      "[600 rows x 6 columns]\n"
     ]
    }
   ],
   "source": [
    "sampledict = {}\n",
    "for f in flist:\n",
    "    time, diff, condition, sample = f.split('_')\n",
    "    sample = int(sample.split('.')[0])\n",
    "    time = int(time)\n",
    "    if sample%2 != 0:\n",
    "        gem_file = f\n",
    "        nuc_file = '_'.join([str(time),diff,condition,f\"{sample+1:03d}\"])+'.nd2'\n",
    "        sampledict[f] = [time, diff, condition, sample, nuc_file, gem_file]\n",
    "df = pd.DataFrame(sampledict).T\n",
    "df.columns = ['time', 'diff', 'condition', 'sample', 'nuc_file', 'gem_file']\n",
    "print(df)\n",
    "df.to_csv(os.path.join(working_dir, 'file_list.csv'))"
   ]
  },
  {
   "cell_type": "code",
   "execution_count": 30,
   "metadata": {},
   "outputs": [
    {
     "name": "stdout",
     "output_type": "stream",
     "text": [
      "except control_009.nd2\n",
      "except control_011.nd2\n",
      "except control_001.nd2\n",
      "except control_003.nd2\n",
      "except control_005.nd2\n",
      "except control_007.nd2\n"
     ]
    }
   ],
   "source": [
    "sampledict = {}\n",
    "for f in flist:\n",
    "    sample_num = int(f.split('.nd2')[0][-3:])\n",
    "    if sample_num%2 != 0:\n",
    "        nuc_image = f\n",
    "        gem_image = f.split('.nd2')[0][:-3]+f\"{sample_num+1:03}\"+'.nd2'\n",
    "        try:\n",
    "            time,condition,sample = f.split('_')\n",
    "            sample = sample.split('.')[0]\n",
    "        except:\n",
    "            print('except', f)\n",
    "            time = 'T0'\n",
    "            condition = 'c0'\n",
    "            sample = f.split('_')[-1].split('.')[0]\n",
    "        sampledict[f] = [time, condition, sample, nuc_image, gem_image]\n",
    "\n",
    "df = pd.DataFrame(sampledict).T\n",
    "df.columns = ['time', 'condition', 'sample', 'nuc_file', 'gem_file']\n",
    "df.to_csv(os.path.join(working_dir,'file_list.csv'))"
   ]
  },
  {
   "cell_type": "code",
   "execution_count": 29,
   "metadata": {},
   "outputs": [
    {
     "data": {
      "image/png": "[encoded data removed]",
      "text/plain": [
       "<Figure size 640x480 with 1 Axes>"
      ]
     },
     "metadata": {},
     "output_type": "display_data"
    }
   ],
   "source": [
    "nuc = open_nd2(df.iloc[0]['nuc_file'])[0,:,:]\n",
    "\n",
    "masks, flows, styles = model.eval(nuc, diameter=120)\n",
    "#io.masks_flows_to_seg(nuc, masks, flows, 120, 'a', [0]) \n",
    "nuc_mask = np.where(masks>0, 1, 0)\n",
    "plt.imshow(nuc_mask)\n",
    "plt.show()"
   ]
  },
  {
   "cell_type": "code",
   "execution_count": null,
   "metadata": {},
   "outputs": [],
   "source": []
  },
  {
   "cell_type": "code",
   "execution_count": null,
   "metadata": {},
   "outputs": [],
   "source": []
  }
 ],
 "metadata": {
  "kernelspec": {
   "display_name": "cp-tp-v2env",
   "language": "python",
   "name": "python3"
  },
  "language_info": {
   "codemirror_mode": {
    "name": "ipython",
    "version": 3
   },
   "file_extension": ".py",
   "mimetype": "text/x-python",
   "name": "python",
   "nbconvert_exporter": "python",
   "pygments_lexer": "ipython3",
   "version": "3.8.15"
  },
  "orig_nbformat": 4,
  "vscode": {
   "interpreter": {
    "hash": "5e5ff8ede19f828bc3bfb118e77ae0127dd51e2b5f89f6e394dcbf5be254b747"
   }
  }
 },
 "nbformat": 4,
 "nbformat_minor": 2
}
