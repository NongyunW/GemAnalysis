{
 "cells": [
  {
   "cell_type": "code",
   "execution_count": null,
   "metadata": {},
   "outputs": [],
   "source": [
    "import numpy as np\n",
    "import matplotlib.pyplot as plt\n",
    "import pandas as pd\n",
    "import trackpy as tp \n",
    "import cellpose as cp\n",
    "import napari as np\n",
    "import skimage as sk"
   ]
  }
 ],
 "metadata": {
  "kernelspec": {
   "display_name": "Python 3.10.4 ('trackpy-env')",
   "language": "python",
   "name": "python3"
  },
  "language_info": {
   "name": "python",
   "version": "3.10.4"
  },
  "orig_nbformat": 4,
  "vscode": {
   "interpreter": {
    "hash": "682d8557551d357dd91a2239a90d8a9112d85272444201871dbcec710277c3b2"
   }
  }
 },
 "nbformat": 4,
 "nbformat_minor": 2
}
