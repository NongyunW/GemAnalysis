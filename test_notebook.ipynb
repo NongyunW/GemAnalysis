{
 "cells": [
  {
   "cell_type": "code",
   "execution_count": null,
   "metadata": {},
   "outputs": [],
   "source": [
    "import pandas as pd\n",
    "from nd2reader import ND2Reader\n",
    "import numpy as np\n",
    "import matplotlib.pyplot as plt\n",
    "import skimage as sk\n",
    "import colorcet as cc\n",
    "from matplotlib.collections import LineCollection\n",
    "from skimage.measure import label\n",
    "from skimage.morphology import dilation, erosion, disk\n",
    "import os"
   ]
  },
  {
   "cell_type": "code",
   "execution_count": null,
   "metadata": {},
   "outputs": [],
   "source": [
    "exp_dir = '/gpfs/home/denesl01/scratch/projects/MSC_GEMs/20240206_GEM_plating_collagen_cell_density' "
   ]
  },
  {
   "cell_type": "code",
   "execution_count": null,
   "metadata": {},
   "outputs": [],
   "source": [
    "def read_nd2(file_path):\n",
    "    with ND2Reader(file_path) as images:\n",
    "        return np.array(images)"
   ]
  },
  {
   "cell_type": "code",
   "execution_count": null,
   "metadata": {},
   "outputs": [],
   "source": [
    "def load_images(exp_dir, d):\n",
    "   path = os.path.join(exp_dir, d, 'file_list.csv')\n",
    "   df = pd.read_csv(path, index_col=0).reset_index(drop=True)\n",
    "   for i, row in df.iterrows():\n",
    "      gempath = os.path.join(exp_dir, d, 'rawdata', row['gem_file'])\n",
    "      nucimpath = os.path.join(exp_dir, d, 'rawdata', row['nuc_file'])\n",
    "      nucpath = os.path.join(exp_dir, d, 'png_masks', row['nuc_file'].split('.')[0] + '_cp_masks.png')\n",
    "      trackspath = os.path.join(exp_dir, d, 'tracks', row['gem_file'].split('.')[0] + '_tracks.csv')\n",
    "      print('opening images for', row['gem_file'] + '...')\n",
    "      gem = read_nd2(gempath)\n",
    "      nucim = read_nd2(nucimpath) \n",
    "      nuc = sk.io.imread(nucpath)\n",
    "      print('loading tracks for', row['gem_file'] + '...')\n",
    "      tracks = pd.read_csv(trackspath)\n",
    "      return gem, nuc, nucim, tracks\n",
    "\n"
   ]
  },
  {
   "cell_type": "code",
   "execution_count": null,
   "metadata": {},
   "outputs": [],
   "source": [
    "exp_list = [f for f in os.listdir(exp_dir) if '.' not in f]\n",
    "gem, nuc, nucim, tracks = load_images(exp_dir, exp_list[0])\n",
    "cmap = cc.cm['glasbey_hv']\n",
    "tracks_nuc = tracks[tracks['compartment'] == 'nuc']\n",
    "\n",
    "\n",
    "tracks_nuc = tracks_nuc.groupby('particle').filter(lambda x: len(x) > 9)\n",
    "\n",
    "labels = sorted(tracks_nuc['nucleus'].unique())\n",
    "color_dict = {label: cmap(i / len(labels)) for i, label in enumerate(labels)}\n",
    "nuc_props=sk.measure.regionprops(nuc)\n",
    "\n",
    "fig,ax = plt.subplots(1,3, figsize= (20, 10))\n",
    "\n",
    "boundaries = sk.segmentation.find_boundaries(nuc)\n",
    "boundaries_rgba = np.zeros((boundaries.shape[0], boundaries.shape[1], 4))  # Initialize with zeros\n",
    "boundaries_rgba[boundaries] = [0, 0, 0, 1]\n",
    "ax[0].imshow(boundaries_rgba)\n",
    "\n",
    "gem = sk.img_as_uint(sk.filters.gaussian(gem, 1))\n",
    "ax[1].imshow(np.amax(gem, axis=0,), cmap='Greys', interpolation='none', vmin=90, vmax=120)\n",
    "\n",
    "ax[1].imshow(boundaries_rgba, interpolation='none')\n",
    "ax[2].imshow(nucim[0,:,:], cmap='Greys', interpolation='none')\n",
    "for label, group in tracks_nuc.groupby('nucleus'):\n",
    "    num_tracks = group['particle'].nunique()\n",
    "    for axs in ax:\n",
    "        axs.text(nuc_props[label-1].centroid[1], nuc_props[label-1].centroid[0], num_tracks, color=color_dict[label], fontsize=10)\n",
    "    for track, group in group.groupby('particle'):\n",
    "        ax[0].plot(group['x'], group['y'], color=color_dict[label], lw=0.5)\n",
    "        \n",
    "fig.tight_layout()\n",
    "plt.savefig('labeled_tracks.pdf')"
   ]
  }
 ],
 "metadata": {
  "kernelspec": {
   "display_name": "cp-tp-v2env",
   "language": "python",
   "name": "python3"
  },
  "language_info": {
   "codemirror_mode": {
    "name": "ipython",
    "version": 3
   },
   "file_extension": ".py",
   "mimetype": "text/x-python",
   "name": "python",
   "nbconvert_exporter": "python",
   "pygments_lexer": "ipython3",
   "version": "3.8.15"
  }
 },
 "nbformat": 4,
 "nbformat_minor": 2
}
